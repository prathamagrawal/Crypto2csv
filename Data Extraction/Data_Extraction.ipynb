{
  "cells": [
    {
      "cell_type": "code",
      "execution_count": 64,
      "metadata": {
        "id": "hyAqvZfmOghe"
      },
      "outputs": [],
      "source": [
        "url = \"https://api.nomics.com/v1/currencies/ticker?key=fe4afefcb81d6bcd9636a94b0601b136150f33fa&ids=BTC,ETH,XRP&interval=1d,30d&convert=EUR&platform-currency=ETH&per-page=100&page=1\"\n",
        "\n"
      ]
    },
    {
      "cell_type": "code",
      "execution_count": 65,
      "metadata": {
        "id": "w6XxkWVcPQrL"
      },
      "outputs": [],
      "source": [
        "import requests\n",
        "import json"
      ]
    },
    {
      "cell_type": "code",
      "execution_count": 66,
      "metadata": {
        "id": "jN4UsZ64RwTV"
      },
      "outputs": [],
      "source": [
        "def get_data(api):\n",
        "  response=requests.get(f\"{api}\")\n",
        "  if response.status_code==200:\n",
        "    print(\"Successfully fetched the data\")\n",
        "    print(response)\n",
        "    return response.json()\n",
        "  else:\n",
        "    print(\"There is an error\")"
      ]
    },
    {
      "cell_type": "code",
      "execution_count": 67,
      "metadata": {
        "id": "RBxsgtV7Rk6s"
      },
      "outputs": [],
      "source": [
        "data={}"
      ]
    },
    {
      "cell_type": "code",
      "execution_count": 68,
      "metadata": {
        "colab": {
          "base_uri": "https://localhost:8080/"
        },
        "id": "A2dBXqrRR5yG",
        "outputId": "e7f4237b-0d0f-4679-aa60-8340252d4652"
      },
      "outputs": [
        {
          "name": "stdout",
          "output_type": "stream",
          "text": [
            "Successfully fetched the data\n",
            "<Response [200]>\n"
          ]
        }
      ],
      "source": [
        "s=get_data(url)\n",
        "data['bitcoin']=s"
      ]
    },
    {
      "cell_type": "code",
      "execution_count": 69,
      "metadata": {
        "id": "YGQ_WZQqRal3"
      },
      "outputs": [
        {
          "name": "stdout",
          "output_type": "stream",
          "text": [
            "{'bitcoin': [{'id': 'ETH', 'currency': 'ETH', 'symbol': 'ETH', 'name': 'Ethereum', 'logo_url': 'https://s3.us-east-2.amazonaws.com/nomics-api/static/images/currencies/eth.svg', 'status': 'active', 'platform_currency': 'ETH', 'price': '1616.04430671', 'price_date': '2022-08-21T00:00:00Z', 'price_timestamp': '2022-08-21T19:22:00Z', 'circulating_supply': '122056464', 'market_cap': '197248653136', 'market_cap_dominance': '0.1860', 'num_exchanges': '545', 'num_pairs': '94432', 'num_pairs_unmapped': '82411', 'first_candle': '2015-08-07T00:00:00Z', 'first_trade': '2015-08-07T00:00:00Z', 'first_order_book': '2018-08-29T00:00:00Z', 'rank': '2', 'rank_delta': '0', 'high': '4159.16270656', 'high_timestamp': '2021-11-08T00:00:00Z', '1d': {'volume': '25101076451.65', 'price_change': '58.18420186', 'price_change_pct': '0.0373', 'volume_change': '-5567153378.01', 'volume_change_pct': '-0.1815', 'market_cap_change': '7123055130.60', 'market_cap_change_pct': '0.0375'}, '30d': {'volume': '866896514647.99', 'price_change': '111.44511622', 'price_change_pct': '0.0741', 'volume_change': '136882648859.72', 'volume_change_pct': '0.1875', 'market_cap_change': '14206955431.38', 'market_cap_change_pct': '0.0776'}}]}\n"
          ]
        }
      ],
      "source": [
        "print(data)"
      ]
    }
  ],
  "metadata": {
    "colab": {
      "collapsed_sections": [],
      "name": "Data Extraction",
      "provenance": []
    },
    "kernelspec": {
      "display_name": "Python 3.9.12 ('ECG')",
      "language": "python",
      "name": "python3"
    },
    "language_info": {
      "codemirror_mode": {
        "name": "ipython",
        "version": 3
      },
      "file_extension": ".py",
      "mimetype": "text/x-python",
      "name": "python",
      "nbconvert_exporter": "python",
      "pygments_lexer": "ipython3",
      "version": "3.9.12"
    },
    "vscode": {
      "interpreter": {
        "hash": "89159dfaa64e4e1c7c1c721b2c5e03e74cb7512bee140046fb329d4455e78d99"
      }
    }
  },
  "nbformat": 4,
  "nbformat_minor": 0
}
