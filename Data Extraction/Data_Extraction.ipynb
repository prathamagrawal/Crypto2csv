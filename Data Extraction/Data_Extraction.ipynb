{
  "cells": [
    {
      "cell_type": "code",
      "execution_count": 36,
      "metadata": {
        "id": "hyAqvZfmOghe"
      },
      "outputs": [],
      "source": [
        "url=\"https://api.coingecko.com/api/v3/coins/bitcoin?localization=en&tickers=false&market_data=true&community_data=true&developer_data=true&sparkline=true\""
      ]
    },
    {
      "cell_type": "code",
      "execution_count": 80,
      "metadata": {
        "id": "w6XxkWVcPQrL"
      },
      "outputs": [],
      "source": [
        "import requests\n",
        "import json\n",
        "import pandas "
      ]
    },
    {
      "cell_type": "code",
      "execution_count": 38,
      "metadata": {
        "id": "jN4UsZ64RwTV"
      },
      "outputs": [],
      "source": [
        "def get_data(api):\n",
        "      response=requests.get(f\"{api}\")\n",
        "      if response.status_code==200:\n",
        "        print(\"Successfully fetched the data\")\n",
        "        print(response)\n",
        "        return response.json()\n",
        "      else:\n",
        "        print(\"There is an error\")  "
      ]
    },
    {
      "cell_type": "code",
      "execution_count": 39,
      "metadata": {
        "id": "RBxsgtV7Rk6s"
      },
      "outputs": [],
      "source": [
        "data={}"
      ]
    },
    {
      "cell_type": "code",
      "execution_count": 48,
      "metadata": {
        "colab": {
          "base_uri": "https://localhost:8080/"
        },
        "id": "A2dBXqrRR5yG",
        "outputId": "e7f4237b-0d0f-4679-aa60-8340252d4652"
      },
      "outputs": [
        {
          "name": "stdout",
          "output_type": "stream",
          "text": [
            "Successfully fetched the data\n",
            "<Response [200]>\n"
          ]
        }
      ],
      "source": [
        "data=dict(get_data(url))"
      ]
    },
    {
      "cell_type": "code",
      "execution_count": 99,
      "metadata": {},
      "outputs": [
        {
          "name": "stdout",
          "output_type": "stream",
          "text": [
            "platforms\n",
            "localization\n",
            "description\n",
            "links\n",
            "image\n",
            "market_data\n",
            "community_data\n",
            "developer_data\n",
            "public_interest_stats\n"
          ]
        }
      ],
      "source": [
        "for element in data:\n",
        "    if('dict' in str(type(data[element]))):\n",
        "        print(element)\n",
        "    "
      ]
    },
    {
      "cell_type": "markdown",
      "metadata": {},
      "source": [
        "#### Removing public_interesets_stats\n"
      ]
    },
    {
      "cell_type": "markdown",
      "metadata": {},
      "source": [
        "## getting data for platforms,localization, description,links,image"
      ]
    },
    {
      "cell_type": "code",
      "execution_count": 101,
      "metadata": {},
      "outputs": [],
      "source": [
        "for element in data:\n",
        "    if('dict' in str(type(data[element])) and element != 'market_data'):\n",
        "        temp=dict(data[element])\n",
        "        if(\"en\" in list(temp.keys())):\n",
        "            data[element]=temp['en']\n",
        "        elif(\"homepage\" in list(temp.keys())):\n",
        "            data[element]=temp['homepage']\n",
        "        elif (\"thumb\" in list(temp.keys())):\n",
        "            data[element]=temp['thumb']"
      ]
    },
    {
      "cell_type": "code",
      "execution_count": 102,
      "metadata": {},
      "outputs": [
        {
          "data": {
            "text/plain": [
              "'Bitcoin is the first successful internet money based on peer-to-peer technology; whereby no central bank or authority is involved in the transaction and production of the Bitcoin currency. It was created by an anonymous individual/group under the name, Satoshi Nakamoto. The source code is available publicly as an open source project, anybody can look at it and be part of the developmental process.\\r\\n\\r\\nBitcoin is changing the way we see money as we speak. The idea was to produce a means of exchange, independent of any central authority, that could be transferred electronically in a secure, verifiable and immutable way. It is a decentralized peer-to-peer internet currency making mobile payment easy, very low transaction fees, protects your identity, and it works anywhere all the time with no central authority and banks.\\r\\n\\r\\nBitcoin is designed to have only 21 million BTC ever created, thus making it a deflationary currency. Bitcoin uses the <a href=\"https://www.coingecko.com/en?hashing_algorithm=SHA-256\">SHA-256</a> hashing algorithm with an average transaction confirmation time of 10 minutes. Miners today are mining Bitcoin using ASIC chip dedicated to only mining Bitcoin, and the hash rate has shot up to peta hashes.\\r\\n\\r\\nBeing the first successful online cryptography currency, Bitcoin has inspired other alternative currencies such as <a href=\"https://www.coingecko.com/en/coins/litecoin\">Litecoin</a>, <a href=\"https://www.coingecko.com/en/coins/peercoin\">Peercoin</a>, <a href=\"https://www.coingecko.com/en/coins/primecoin\">Primecoin</a>, and so on.\\r\\n\\r\\nThe cryptocurrency then took off with the innovation of the turing-complete smart contract by <a href=\"https://www.coingecko.com/en/coins/ethereum\">Ethereum</a> which led to the development of other amazing projects such as <a href=\"https://www.coingecko.com/en/coins/eos\">EOS</a>, <a href=\"https://www.coingecko.com/en/coins/tron\">Tron</a>, and even crypto-collectibles such as <a href=\"https://www.coingecko.com/buzz/ethereum-still-king-dapps-cryptokitties-need-1-billion-on-eos\">CryptoKitties</a>.'"
            ]
          },
          "execution_count": 102,
          "metadata": {},
          "output_type": "execute_result"
        }
      ],
      "source": [
        "for element in data:\n",
        "    "
      ]
    },
    {
      "cell_type": "code",
      "execution_count": null,
      "metadata": {},
      "outputs": [],
      "source": []
    }
  ],
  "metadata": {
    "colab": {
      "collapsed_sections": [],
      "name": "Data Extraction",
      "provenance": []
    },
    "kernelspec": {
      "display_name": "Python 3.9.12 ('ECG')",
      "language": "python",
      "name": "python3"
    },
    "language_info": {
      "codemirror_mode": {
        "name": "ipython",
        "version": 3
      },
      "file_extension": ".py",
      "mimetype": "text/x-python",
      "name": "python",
      "nbconvert_exporter": "python",
      "pygments_lexer": "ipython3",
      "version": "3.9.12"
    },
    "vscode": {
      "interpreter": {
        "hash": "89159dfaa64e4e1c7c1c721b2c5e03e74cb7512bee140046fb329d4455e78d99"
      }
    }
  },
  "nbformat": 4,
  "nbformat_minor": 0
}
