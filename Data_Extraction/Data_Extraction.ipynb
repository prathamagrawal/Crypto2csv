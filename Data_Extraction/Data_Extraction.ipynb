{
  "cells": [
    {
      "cell_type": "code",
      "execution_count": 1,
      "metadata": {
        "id": "hyAqvZfmOghe"
      },
      "outputs": [],
      "source": [
        "url=\"https://api.coingecko.com/api/v3/coins/bitcoin?localization=en&tickers=false&market_data=true&community_data=true&developer_data=true&sparkline=true\""
      ]
    },
    {
      "cell_type": "code",
      "execution_count": 2,
      "metadata": {
        "id": "w6XxkWVcPQrL"
      },
      "outputs": [],
      "source": [
        "import requests\n",
        "import json\n",
        "import numpy\n",
        "import pandas "
      ]
    },
    {
      "cell_type": "code",
      "execution_count": 37,
      "metadata": {
        "id": "jN4UsZ64RwTV"
      },
      "outputs": [],
      "source": [
        "def get_data(api):\n",
        "      response=requests.get(f\"{api}\")\n",
        "      if response.status_code==200:\n",
        "        print(\"Successfully fetched the data\")\n",
        "        print(response)\n",
        "        return response.json()\n",
        "      else:\n",
        "        print(\"There is an error\")  "
      ]
    },
    {
      "cell_type": "code",
      "execution_count": 38,
      "metadata": {
        "id": "RBxsgtV7Rk6s"
      },
      "outputs": [],
      "source": [
        "data={}"
      ]
    },
    {
      "cell_type": "code",
      "execution_count": 39,
      "metadata": {
        "colab": {
          "base_uri": "https://localhost:8080/"
        },
        "id": "A2dBXqrRR5yG",
        "outputId": "e7f4237b-0d0f-4679-aa60-8340252d4652"
      },
      "outputs": [
        {
          "name": "stdout",
          "output_type": "stream",
          "text": [
            "Successfully fetched the data\n",
            "<Response [200]>\n"
          ]
        }
      ],
      "source": [
        "data=dict(get_data(url))"
      ]
    },
    {
      "cell_type": "code",
      "execution_count": 40,
      "metadata": {},
      "outputs": [
        {
          "name": "stdout",
          "output_type": "stream",
          "text": [
            "platforms\n",
            "localization\n",
            "description\n",
            "links\n",
            "image\n",
            "market_data\n",
            "community_data\n",
            "developer_data\n",
            "public_interest_stats\n"
          ]
        }
      ],
      "source": [
        "for element in data:\n",
        "    if('dict' in str(type(data[element]))):\n",
        "        print(element)\n",
        "    "
      ]
    },
    {
      "cell_type": "markdown",
      "metadata": {},
      "source": [
        "#### Removing public_interesets_stats\n"
      ]
    },
    {
      "cell_type": "markdown",
      "metadata": {},
      "source": [
        "## getting data for platforms,localization, description,links,image"
      ]
    },
    {
      "cell_type": "code",
      "execution_count": 41,
      "metadata": {},
      "outputs": [],
      "source": [
        "\n",
        "for element in data:\n",
        "    if('dict' in str(type(data[element])) and element != 'market_data'):\n",
        "        temp=dict(data[element])\n",
        "        if(\"en\" in list(temp.keys())):\n",
        "            data[element]=temp['en']\n",
        "        elif(\"homepage\" in list(temp.keys())):\n",
        "            data[element]=temp['homepage']\n",
        "        elif (\"thumb\" in list(temp.keys())):\n",
        "            data[element]=temp['thumb']\n",
        "    elif('dict' in str(type(data[element])) and element == 'community_data'):\n",
        "        temp=dict(data[element])\n",
        "        for item in temp:\n",
        "            data['community_data'+str(item)]=temp[item]\n",
        "    elif('dict' in str(type(data[element])) and element == 'developer_data'):\n",
        "        temp=dict(data[element])\n",
        "        for item in temp:\n",
        "            data['developer_data'+str(item)]=temp[item]\n",
        "    elif('dict' in str(type(data[element])) and element == 'public_interest_stats'):\n",
        "        temp=dict(data[element])\n",
        "        for item in temp:\n",
        "            data['public_interest_stats'+str(item)]=temp[item]\n",
        "\n",
        "\n",
        "\n",
        "            \n",
        "del data['community_data']\n",
        "del data['developer_data']\n",
        "del data['public_interest_stats']"
      ]
    },
    {
      "cell_type": "code",
      "execution_count": 42,
      "metadata": {},
      "outputs": [],
      "source": [
        "m=dict(data['market_data'])\n",
        "\n",
        "for element in m:\n",
        "    if('dict' in str(type(m[element]))and element !=\"sparkline_7d\"):\n",
        "        temp=dict(m[element])\n",
        "        if(\"usd\" in list(temp.keys())):\n",
        "            data[element]=temp['usd']\n",
        "    elif('dict' in str(type(m[element])) and element ==\"sparkline_7d\"):\n",
        "        temp=dict(m[element])\n",
        "        data[\"sparkline_7d\"]=list(temp.values())\n",
        "    else:\n",
        "        data[element]=m[element]\n",
        "    \n",
        "del data['market_data']\n"
      ]
    },
    {
      "cell_type": "code",
      "execution_count": 51,
      "metadata": {},
      "outputs": [],
      "source": [
        "output=pandas.Series(data).to_frame().transpose()\n",
        "output.to_csv(\"output.csv\")"
      ]
    },
    {
      "cell_type": "code",
      "execution_count": 52,
      "metadata": {},
      "outputs": [
        {
          "data": {
            "text/html": [
              "<div>\n",
              "<style scoped>\n",
              "    .dataframe tbody tr th:only-of-type {\n",
              "        vertical-align: middle;\n",
              "    }\n",
              "\n",
              "    .dataframe tbody tr th {\n",
              "        vertical-align: top;\n",
              "    }\n",
              "\n",
              "    .dataframe thead th {\n",
              "        text-align: right;\n",
              "    }\n",
              "</style>\n",
              "<table border=\"1\" class=\"dataframe\">\n",
              "  <thead>\n",
              "    <tr style=\"text-align: right;\">\n",
              "      <th></th>\n",
              "      <th>id</th>\n",
              "      <th>symbol</th>\n",
              "      <th>name</th>\n",
              "      <th>asset_platform_id</th>\n",
              "      <th>platforms</th>\n",
              "      <th>block_time_in_minutes</th>\n",
              "      <th>hashing_algorithm</th>\n",
              "      <th>categories</th>\n",
              "      <th>public_notice</th>\n",
              "      <th>additional_notices</th>\n",
              "      <th>...</th>\n",
              "      <th>price_change_percentage_30d_in_currency</th>\n",
              "      <th>price_change_percentage_60d_in_currency</th>\n",
              "      <th>price_change_percentage_200d_in_currency</th>\n",
              "      <th>price_change_percentage_1y_in_currency</th>\n",
              "      <th>market_cap_change_24h_in_currency</th>\n",
              "      <th>market_cap_change_percentage_24h_in_currency</th>\n",
              "      <th>total_supply</th>\n",
              "      <th>max_supply</th>\n",
              "      <th>circulating_supply</th>\n",
              "      <th>sparkline_7d</th>\n",
              "    </tr>\n",
              "  </thead>\n",
              "  <tbody>\n",
              "    <tr>\n",
              "      <th>0</th>\n",
              "      <td>bitcoin</td>\n",
              "      <td>btc</td>\n",
              "      <td>Bitcoin</td>\n",
              "      <td>None</td>\n",
              "      <td>{'': ''}</td>\n",
              "      <td>10</td>\n",
              "      <td>SHA-256</td>\n",
              "      <td>[Cryptocurrency]</td>\n",
              "      <td>None</td>\n",
              "      <td>[]</td>\n",
              "      <td>...</td>\n",
              "      <td>-12.33353</td>\n",
              "      <td>-1.52292</td>\n",
              "      <td>-55.39737</td>\n",
              "      <td>-60.18522</td>\n",
              "      <td>2761221729</td>\n",
              "      <td>0.73043</td>\n",
              "      <td>21000000.0</td>\n",
              "      <td>21000000.0</td>\n",
              "      <td>19141506.0</td>\n",
              "      <td>[[20031.489094301964, 20033.944464337637, 1998...</td>\n",
              "    </tr>\n",
              "  </tbody>\n",
              "</table>\n",
              "<p>1 rows × 68 columns</p>\n",
              "</div>"
            ],
            "text/plain": [
              "        id symbol     name asset_platform_id platforms block_time_in_minutes  \\\n",
              "0  bitcoin    btc  Bitcoin              None  {'': ''}                    10   \n",
              "\n",
              "  hashing_algorithm        categories public_notice additional_notices  ...  \\\n",
              "0           SHA-256  [Cryptocurrency]          None                 []  ...   \n",
              "\n",
              "  price_change_percentage_30d_in_currency  \\\n",
              "0                               -12.33353   \n",
              "\n",
              "  price_change_percentage_60d_in_currency  \\\n",
              "0                                -1.52292   \n",
              "\n",
              "  price_change_percentage_200d_in_currency  \\\n",
              "0                                -55.39737   \n",
              "\n",
              "  price_change_percentage_1y_in_currency market_cap_change_24h_in_currency  \\\n",
              "0                              -60.18522                        2761221729   \n",
              "\n",
              "  market_cap_change_percentage_24h_in_currency total_supply  max_supply  \\\n",
              "0                                      0.73043   21000000.0  21000000.0   \n",
              "\n",
              "  circulating_supply                                       sparkline_7d  \n",
              "0         19141506.0  [[20031.489094301964, 20033.944464337637, 1998...  \n",
              "\n",
              "[1 rows x 68 columns]"
            ]
          },
          "execution_count": 52,
          "metadata": {},
          "output_type": "execute_result"
        }
      ],
      "source": [
        "output"
      ]
    },
    {
      "cell_type": "code",
      "execution_count": null,
      "metadata": {},
      "outputs": [],
      "source": []
    }
  ],
  "metadata": {
    "colab": {
      "collapsed_sections": [],
      "name": "Data Extraction",
      "provenance": []
    },
    "kernelspec": {
      "display_name": "Python 3.9.12 ('ECG')",
      "language": "python",
      "name": "python3"
    },
    "language_info": {
      "codemirror_mode": {
        "name": "ipython",
        "version": 3
      },
      "file_extension": ".py",
      "mimetype": "text/x-python",
      "name": "python",
      "nbconvert_exporter": "python",
      "pygments_lexer": "ipython3",
      "version": "3.9.12"
    },
    "vscode": {
      "interpreter": {
        "hash": "89159dfaa64e4e1c7c1c721b2c5e03e74cb7512bee140046fb329d4455e78d99"
      }
    }
  },
  "nbformat": 4,
  "nbformat_minor": 0
}
